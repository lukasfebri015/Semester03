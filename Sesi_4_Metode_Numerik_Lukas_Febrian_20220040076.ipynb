{
  "nbformat": 4,
  "nbformat_minor": 0,
  "metadata": {
    "colab": {
      "provenance": [],
      "authorship_tag": "ABX9TyMjpEL/bR/C7FALc1NTXo5p",
      "include_colab_link": true
    },
    "kernelspec": {
      "name": "python3",
      "display_name": "Python 3"
    },
    "language_info": {
      "name": "python"
    }
  },
  "cells": [
    {
      "cell_type": "markdown",
      "metadata": {
        "id": "view-in-github",
        "colab_type": "text"
      },
      "source": [
        "<a href=\"https://colab.research.google.com/github/lukasfebri015/Semester03/blob/main/Sesi_4_Metode_Numerik_Lukas_Febrian_20220040076.ipynb\" target=\"_parent\"><img src=\"https://colab.research.google.com/assets/colab-badge.svg\" alt=\"Open In Colab\"/></a>"
      ]
    },
    {
      "cell_type": "markdown",
      "source": [
        "Nama : Lukas Febrian LAUFRA\n",
        "\n",
        "Kelas/NIM :  TI22F/20220040076\n",
        "\n",
        "Mata Kuliah : Metode Numerik\n",
        "\n",
        "Sesi : 4\n",
        "\n",
        "Dosen : SYAHID ABDULLAH, S.Si., M.Kom\n",
        "\n",
        "Hari : Senin, 16 Oktober 2023."
      ],
      "metadata": {
        "id": "SAqqBfSE8WIf"
      }
    },
    {
      "cell_type": "markdown",
      "source": [
        "Berikut adalah langkah-langkah untuk menyelesaikan persamaan f(x)=e^x - 2 - x pada interval [0.5,2] menggunakan metode bagi dua, regula falsi, dan titik tetap dengan menggunakan Python pada Google Colab:"
      ],
      "metadata": {
        "id": "qxlcVtwZ8b7G"
      }
    },
    {
      "cell_type": "markdown",
      "source": [
        "1. Import library numpy dan matplotlib.pyplot"
      ],
      "metadata": {
        "id": "uIOmjvhY8jYD"
      }
    },
    {
      "cell_type": "code",
      "execution_count": 1,
      "metadata": {
        "id": "Qk_wprCX8VKi"
      },
      "outputs": [],
      "source": [
        "import numpy as np\n",
        "import matplotlib.pyplot as plt"
      ]
    },
    {
      "cell_type": "markdown",
      "source": [
        "2. Definisikan fungsi f(x)"
      ],
      "metadata": {
        "id": "1SDkSxdJ8wHD"
      }
    },
    {
      "cell_type": "code",
      "source": [
        "def f(x):\n",
        "  return np.exp(x) - 2 - x"
      ],
      "metadata": {
        "id": "Dp_KmP119gir"
      },
      "execution_count": 3,
      "outputs": []
    },
    {
      "cell_type": "markdown",
      "source": [
        "3. Plot grafik fungsi f(x) pada interval [0.5,2]"
      ],
      "metadata": {
        "id": "VrWFua7S9oSR"
      }
    },
    {
      "cell_type": "code",
      "source": [
        "x = np.linspace(0.5, 2, 100)\n",
        "plt.plot(x, f(x))\n",
        "plt.grid()\n",
        "plt.axhline(y=0, color='k')\n",
        "plt.show()"
      ],
      "metadata": {
        "colab": {
          "base_uri": "https://localhost:8080/",
          "height": 222
        },
        "id": "9ackyie090oc",
        "outputId": "9a506798-1e95-4c48-cb6c-3f525074f808"
      },
      "execution_count": 4,
      "outputs": [
        {
          "output_type": "display_data",
          "data": {
            "text/plain": [
              "<Figure size 640x480 with 1 Axes>"
            ],
            "image/png": "[encoded data removed]"
          },
          "metadata": {}
        }
      ]
    },
    {
      "cell_type": "markdown",
      "source": [
        "4. Implementasikan metode bagi dua"
      ],
      "metadata": {
        "id": "854oiojr98H0"
      }
    },
    {
      "cell_type": "code",
      "source": [
        "def bisection(a, b, tol):\n",
        "  fa = f(a)\n",
        "  fb = f(b)\n",
        "  if fa*fb > 0:\n",
        "    return \"Tidak ada akar pada interval ini\"\n",
        "  else:\n",
        "    while (b-a)/2 > tol:\n",
        "      c = (a+b)/2\n",
        "      fc = f(c)\n",
        "      if fc == 0:\n",
        "        return c\n",
        "      elif fa*fc < 0:\n",
        "        b = c\n",
        "        fb = fc\n",
        "      else:\n",
        "        a = c\n",
        "        fa = fc\n",
        "    return (a+b)/2"
      ],
      "metadata": {
        "id": "3EULUWG6-I1x"
      },
      "execution_count": 5,
      "outputs": []
    },
    {
      "cell_type": "markdown",
      "source": [
        "5. Implementasikan metode regula falsi"
      ],
      "metadata": {
        "id": "fO05Ph-u-NZM"
      }
    },
    {
      "cell_type": "code",
      "source": [
        "def regula_falsi(a, b, tol):\n",
        "  fa = f(a)\n",
        "  fb = f(b)\n",
        "  if fa*fb > 0:\n",
        "    return \"Tidak ada akar pada interval ini\"\n",
        "  else:\n",
        "    while abs(fa) > tol and abs(fb) > tol:\n",
        "      c = (a*fb - b*fa)/(fb - fa)\n",
        "      fc = f(c)\n",
        "      if fc == 0:\n",
        "        return c\n",
        "      elif fa*fc < 0:\n",
        "        b = c\n",
        "        fb = fc\n",
        "      else:\n",
        "        a = c\n",
        "        fa = fc\n",
        "    return c"
      ],
      "metadata": {
        "id": "aP-T_66x-TKZ"
      },
      "execution_count": 6,
      "outputs": []
    },
    {
      "cell_type": "markdown",
      "source": [
        "6. Implementasikan metode titik tetap"
      ],
      "metadata": {
        "id": "ov6LYo9d-WrR"
      }
    },
    {
      "cell_type": "code",
      "source": [
        "def fixed_point(x0, tol):\n",
        "  g = lambda x: np.log(2+x)\n",
        "  x = g(x0)\n",
        "  while abs(x-x0) > tol:\n",
        "    x0 = x\n",
        "    x = g(x0)\n",
        "  return x"
      ],
      "metadata": {
        "id": "cvHoxj-p-aby"
      },
      "execution_count": 7,
      "outputs": []
    },
    {
      "cell_type": "markdown",
      "source": [
        "7. Panggil fungsi-fungsi tersebut untuk mencari akar persamaan pada interval [0.5,2] dengan toleransi 0.0001"
      ],
      "metadata": {
        "id": "LJtPxLjU-eHA"
      }
    },
    {
      "cell_type": "code",
      "source": [
        "a = 0.5\n",
        "b = 2\n",
        "tol = 0.0001\n",
        "\n",
        "print(\"Metode Bagi Dua: \", bisection(a, b, tol))\n",
        "print(\"Metode Regula Falsi: \", regula_falsi(a, b, tol))\n",
        "print(\"Metode Titik Tetap: \", fixed_point(a, tol))"
      ],
      "metadata": {
        "colab": {
          "base_uri": "https://localhost:8080/"
        },
        "id": "yvfgjaIz-iqr",
        "outputId": "1de2870e-1238-43a1-c74b-3991cd7026cc"
      },
      "execution_count": 8,
      "outputs": [
        {
          "output_type": "stream",
          "name": "stdout",
          "text": [
            "Metode Bagi Dua:  1.146270751953125\n",
            "Metode Regula Falsi:  1.1461577150410116\n",
            "Metode Titik Tetap:  1.1461679042558321\n"
          ]
        }
      ]
    },
    {
      "cell_type": "markdown",
      "source": [
        "Dengan menggunakan langkah-langkah di atas, kita dapat menyelesaikan persamaan f(x)=e^x - 2 - x pada interval [0.5,2] menggunakan metode bagi dua, regula falsi, dan titik tetap dengan menggunakan Python pada Google Colab."
      ],
      "metadata": {
        "id": "HSQ73tRq-oAU"
      }
    }
  ]
}