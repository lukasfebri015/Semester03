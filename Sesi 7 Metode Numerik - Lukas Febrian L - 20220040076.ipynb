{
  "nbformat": 4,
  "nbformat_minor": 0,
  "metadata": {
    "colab": {
      "provenance": [],
      "authorship_tag": "ABX9TyPUQsi2Fp92BWLi0ONeVqFZ",
      "include_colab_link": true
    },
    "kernelspec": {
      "name": "python3",
      "display_name": "Python 3"
    },
    "language_info": {
      "name": "python"
    }
  },
  "cells": [
    {
      "cell_type": "markdown",
      "metadata": {
        "id": "view-in-github",
        "colab_type": "text"
      },
      "source": [
        "<a href=\"https://colab.research.google.com/github/lukasfebri015/Semester03/blob/main/Sesi%207%20Metode%20Numerik%20-%20Lukas%20Febrian%20L%20-%2020220040076.ipynb\" target=\"_parent\"><img src=\"https://colab.research.google.com/assets/colab-badge.svg\" alt=\"Open In Colab\"/></a>"
      ]
    },
    {
      "cell_type": "code",
      "source": [
        "nama = \"Lukas Febrian L\"\n",
        "kelas = \"Teknik Informatika 2022 F\"\n",
        "nim = \"20220040076\"\n",
        "hari = \"Rabu, 8 November 2023\"\n",
        "dosen = \"SYAHID ABDULLAH, S.Si., M.Kom\"\n",
        "\n",
        "print(\"Nama:\", nama)\n",
        "print(\"Kelas:\", kelas)\n",
        "print(\"NIM:\", nim)\n",
        "print(\"Hari:\", hari)\n",
        "print(\"Dosen:\", dosen)"
      ],
      "metadata": {
        "colab": {
          "base_uri": "https://localhost:8080/"
        },
        "id": "gJrNAuQKiRuQ",
        "outputId": "82b3f3c8-27d2-4876-d882-691b6288d4b9"
      },
      "execution_count": 10,
      "outputs": [
        {
          "output_type": "stream",
          "name": "stdout",
          "text": [
            "Nama: Lukas Febrian L\n",
            "Kelas: Teknik Informatika 2022 F\n",
            "NIM: 20220040076\n",
            "Hari: Rabu, 8 November 2023\n",
            "Dosen: SYAHID ABDULLAH, S.Si., M.Kom\n"
          ]
        }
      ]
    },
    {
      "cell_type": "markdown",
      "source": [
        "Metode Jacobi dan Gauss-Seidel adalah metode iteratif yang digunakan untuk menyelesaikan sistem persamaan linear (SPL). SPL yang diberikan adalah sebagai berikut:"
      ],
      "metadata": {
        "id": "OZfD2tcTgNEQ"
      }
    },
    {
      "cell_type": "code",
      "source": [
        "2x + 8y - z = 11\n",
        "5x - y + z = 10\n",
        "-x + y + 4z = 3"
      ],
      "metadata": {
        "id": "GCYRn6hMghkJ"
      },
      "execution_count": null,
      "outputs": []
    },
    {
      "cell_type": "markdown",
      "source": [
        "Untuk menggunakan metode Jacobi dan Gauss-Seidel, SPL tersebut perlu diubah menjadi bentuk matriks. Dalam hal ini, SPL tersebut dapat ditulis sebagai:"
      ],
      "metadata": {
        "id": "xrVWzuUdgYjS"
      }
    },
    {
      "cell_type": "code",
      "source": [
        "[ 2  8 -1 ][ x ]   [ 11 ]\n",
        "[ 5 -1  1 ][ y ] = [ 10 ]\n",
        "[-1  1  4 ][ z ]   [  3 ]"
      ],
      "metadata": {
        "id": "9olo_tqegli1"
      },
      "execution_count": null,
      "outputs": []
    },
    {
      "cell_type": "markdown",
      "source": [
        "kode berikut untuk mengimpor modul numpy dan menentukan nilai awal x, y, dan z:"
      ],
      "metadata": {
        "id": "ka45q2dTg6qG"
      }
    },
    {
      "cell_type": "code",
      "source": [
        "import numpy as np\n",
        "\n",
        "# nilai awal x, y, dan z\n",
        "x = 0\n",
        "y = 0\n",
        "z = 0"
      ],
      "metadata": {
        "id": "P7ygieUJg2R_"
      },
      "execution_count": 3,
      "outputs": []
    },
    {
      "cell_type": "markdown",
      "source": [
        "Tuliskan kode berikut untuk menentukan matriks A dan vektor b:"
      ],
      "metadata": {
        "id": "x5CHZJtRhSvB"
      }
    },
    {
      "cell_type": "code",
      "source": [
        "# matriks A dan vektor b\n",
        "A = np.array([[2, 8, -1], [5, -1, 1], [-1, 1, 4]])\n",
        "b = np.array([11, 10, 3])"
      ],
      "metadata": {
        "id": "XlSTQAsRhUr0"
      },
      "execution_count": 4,
      "outputs": []
    },
    {
      "cell_type": "markdown",
      "source": [
        "Tuliskan kode berikut untuk menentukan nilai toleransi dan jumlah iterasi maksimum:"
      ],
      "metadata": {
        "id": "Hy9VHsaghYmf"
      }
    },
    {
      "cell_type": "code",
      "source": [
        "# toleransi dan jumlah iterasi maksimum\n",
        "tol = 1e-6\n",
        "max_iter = 1000"
      ],
      "metadata": {
        "id": "sMd-tCe7ha4r"
      },
      "execution_count": 5,
      "outputs": []
    },
    {
      "cell_type": "markdown",
      "source": [
        "Tuliskan kode berikut untuk menyelesaikan SPL menggunakan metode Jacobi:"
      ],
      "metadata": {
        "id": "5-4gLBMEhevS"
      }
    },
    {
      "cell_type": "code",
      "source": [
        "# metode Jacobi\n",
        "for i in range(max_iter):\n",
        "    x_new = (b[0] - A[0, 1] * y - A[0, 2] * z) / A[0, 0]\n",
        "    y_new = (b[1] - A[1, 0] * x - A[1, 2] * z) / A[1, 1]\n",
        "    z_new = (b[2] - A[2, 0] * x - A[2, 1] * y) / A[2, 2]\n",
        "    if abs(x_new - x) < tol and abs(y_new - y) < tol and abs(z_new - z) < tol:\n",
        "        break\n",
        "    x = x_new\n",
        "    y = y_new\n",
        "    z = z_new"
      ],
      "metadata": {
        "colab": {
          "base_uri": "https://localhost:8080/"
        },
        "id": "267igktshgpt",
        "outputId": "a8760211-63f5-4291-f6a9-734fddab630d"
      },
      "execution_count": 6,
      "outputs": [
        {
          "output_type": "stream",
          "name": "stderr",
          "text": [
            "<ipython-input-6-d9254740feac>:3: RuntimeWarning: overflow encountered in double_scalars\n",
            "  x_new = (b[0] - A[0, 1] * y - A[0, 2] * z) / A[0, 0]\n",
            "<ipython-input-6-d9254740feac>:4: RuntimeWarning: overflow encountered in double_scalars\n",
            "  y_new = (b[1] - A[1, 0] * x - A[1, 2] * z) / A[1, 1]\n",
            "<ipython-input-6-d9254740feac>:5: RuntimeWarning: overflow encountered in double_scalars\n",
            "  z_new = (b[2] - A[2, 0] * x - A[2, 1] * y) / A[2, 2]\n",
            "<ipython-input-6-d9254740feac>:3: RuntimeWarning: invalid value encountered in double_scalars\n",
            "  x_new = (b[0] - A[0, 1] * y - A[0, 2] * z) / A[0, 0]\n",
            "<ipython-input-6-d9254740feac>:5: RuntimeWarning: invalid value encountered in double_scalars\n",
            "  z_new = (b[2] - A[2, 0] * x - A[2, 1] * y) / A[2, 2]\n"
          ]
        }
      ]
    },
    {
      "cell_type": "markdown",
      "source": [
        "Tuliskan kode berikut untuk menampilkan hasil SPL yang telah diselesaikan menggunakan metode Jacobi:"
      ],
      "metadata": {
        "id": "_yTqTVkBhkQI"
      }
    },
    {
      "cell_type": "code",
      "source": [
        "# hasil metode Jacobi\n",
        "print(\"Metode Jacobi:\")\n",
        "print(\"x =\", x)\n",
        "print(\"y =\", y)\n",
        "print(\"z =\", z)"
      ],
      "metadata": {
        "colab": {
          "base_uri": "https://localhost:8080/"
        },
        "id": "cAbQUenJhlPg",
        "outputId": "9297bbc0-b685-4659-8ecd-7cc942a6b774"
      },
      "execution_count": 7,
      "outputs": [
        {
          "output_type": "stream",
          "name": "stdout",
          "text": [
            "Metode Jacobi:\n",
            "x = nan\n",
            "y = nan\n",
            "z = nan\n"
          ]
        }
      ]
    },
    {
      "cell_type": "markdown",
      "source": [
        "Tuliskan kode berikut untuk menyelesaikan SPL menggunakan metode Gauss-Seidel:"
      ],
      "metadata": {
        "id": "60FltmjihwLr"
      }
    },
    {
      "cell_type": "code",
      "source": [
        "# metode Gauss-Seidel\n",
        "for i in range(max_iter):\n",
        "    x_new = (b[0] - A[0, 1] * y - A[0, 2] * z) / A[0, 0]\n",
        "    y_new = (b[1] - A[1, 0] * x_new - A[1, 2] * z) / A[1, 1]\n",
        "    z_new = (b[2] - A[2, 0] * x_new - A[2, 1] * y_new) / A[2, 2]\n",
        "    if abs(x_new - x) < tol and abs(y_new - y) < tol and abs(z_new - z) < tol:\n",
        "        break\n",
        "    x = x_new\n",
        "    y = y_new\n",
        "    z = z_new"
      ],
      "metadata": {
        "id": "gk094uP9hy3s"
      },
      "execution_count": 8,
      "outputs": []
    },
    {
      "cell_type": "markdown",
      "source": [
        "Tuliskan kode berikut untuk menampilkan hasil SPL yang telah diselesaikan menggunakan metode Gauss-Seidel:"
      ],
      "metadata": {
        "id": "tZ___Ltjh3H7"
      }
    },
    {
      "cell_type": "code",
      "source": [
        "# hasil metode Gauss-Seidel\n",
        "print(\"Metode Gauss-Seidel:\")\n",
        "print(\"x =\", x)\n",
        "print(\"y =\", y)\n",
        "print(\"z =\", z)"
      ],
      "metadata": {
        "colab": {
          "base_uri": "https://localhost:8080/"
        },
        "id": "SrkHZgBAh4hh",
        "outputId": "6de573d7-3847-41df-afd1-f2efc1e544fd"
      },
      "execution_count": 9,
      "outputs": [
        {
          "output_type": "stream",
          "name": "stdout",
          "text": [
            "Metode Gauss-Seidel:\n",
            "x = nan\n",
            "y = nan\n",
            "z = nan\n"
          ]
        }
      ]
    },
    {
      "cell_type": "markdown",
      "source": [
        "Dengan menjalankan kode tersebut, SPL yang diberikan dapat diselesaikan menggunakan metode Jacobi dan Gauss-Seidel. Hasil SPL yang telah diselesaikan akan ditampilkan pada output yang dihasilkan oleh Google Colaboratory."
      ],
      "metadata": {
        "id": "jireFmDyh-nu"
      }
    }
  ]
}