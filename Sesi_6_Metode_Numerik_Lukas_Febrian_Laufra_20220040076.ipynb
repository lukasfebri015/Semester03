{
  "nbformat": 4,
  "nbformat_minor": 0,
  "metadata": {
    "colab": {
      "provenance": [],
      "authorship_tag": "ABX9TyMR1T/ZUxT67NMV/pM5zkPF",
      "include_colab_link": true
    },
    "kernelspec": {
      "name": "python3",
      "display_name": "Python 3"
    },
    "language_info": {
      "name": "python"
    }
  },
  "cells": [
    {
      "cell_type": "markdown",
      "metadata": {
        "id": "view-in-github",
        "colab_type": "text"
      },
      "source": [
        "<a href=\"https://colab.research.google.com/github/lukasfebri015/Semester03/blob/main/Sesi_6_Metode_Numerik_Lukas_Febrian_Laufra_20220040076.ipynb\" target=\"_parent\"><img src=\"https://colab.research.google.com/assets/colab-badge.svg\" alt=\"Open In Colab\"/></a>"
      ]
    },
    {
      "cell_type": "code",
      "source": [
        "nama = \"Lukas Febrian Laufra\"\n",
        "nim = \"20220040076\"\n",
        "kelas = \"Teknik Informatika 22 F\"\n",
        "mata_kuliah = \"Metode Numerik\"\n",
        "hari = \"Minggu, 5 Oktober 2023\"\n",
        "dosen = \"SYAHID ABDULLAH, S.Si., M.Kom\"\n",
        "\n",
        "print(\"Nama: \", nama)\n",
        "print(\"NIM: \", nim)\n",
        "print(\"Kelas: \", kelas)\n",
        "print(\"Mata Kuliah: \", mata_kuliah)\n",
        "print(\"Hari: \", hari)\n",
        "print(\"Dosen: \", dosen)"
      ],
      "metadata": {
        "colab": {
          "base_uri": "https://localhost:8080/"
        },
        "id": "VKg97yb_nQpD",
        "outputId": "d2e2a9b5-9427-4df4-fc4b-217e11b82d01"
      },
      "execution_count": 6,
      "outputs": [
        {
          "output_type": "stream",
          "name": "stdout",
          "text": [
            "Nama:  Lukas Febrian Laufra\n",
            "NIM:  20220040076\n",
            "Kelas:  Teknik Informatika 22 F\n",
            "Mata Kuliah:  Metode Numerik\n",
            "Hari:  Minggu, 5 Oktober 2023\n",
            "Dosen:  SYAHID ABDULLAH, S.Si., M.Kom\n"
          ]
        }
      ]
    },
    {
      "cell_type": "markdown",
      "source": [
        "Untuk menyelesaikan SPL yang tertera pada soal menggunakan Python pada Google Colab, dapat dilakukan dengan menggunakan library NumPy. Berikut adalah langkah-langkahnya:\n",
        "\n",
        "1. Pertama-tama, buka Google Colab dan buat notebook baru.\n",
        "2. Import library NumPy dengan mengetikkan kode berikut pada cell pertama:"
      ],
      "metadata": {
        "id": "cNj27722jhGe"
      }
    },
    {
      "cell_type": "code",
      "execution_count": 1,
      "metadata": {
        "id": "t8VaItGUMiwM"
      },
      "outputs": [],
      "source": [
        "import numpy as np"
      ]
    },
    {
      "cell_type": "markdown",
      "source": [
        "3. Selanjutnya, definisikan matriks koefisien dan vektor hasil dari SPL tersebut dengan mengetikkan kode berikut pada cell berikutnya:"
      ],
      "metadata": {
        "id": "yy-7xvXdjyJR"
      }
    },
    {
      "cell_type": "code",
      "source": [
        "A = np.array([[2, 8, -1], [5, -1, 1], [-1, 1, 4]])\n",
        "B = np.array([11, 10, 3])"
      ],
      "metadata": {
        "id": "cuqL9iB4kEv6"
      },
      "execution_count": 2,
      "outputs": []
    },
    {
      "cell_type": "markdown",
      "source": [
        "4. Gunakan fungsi solve dari NumPy untuk mencari solusi SPL dengan mengetikkan kode berikut pada cell berikutnya:"
      ],
      "metadata": {
        "id": "UgPPRNClmuBM"
      }
    },
    {
      "cell_type": "code",
      "source": [
        "X = np.linalg.solve(A, B)"
      ],
      "metadata": {
        "id": "ud3ecC64mz3w"
      },
      "execution_count": 3,
      "outputs": []
    },
    {
      "cell_type": "markdown",
      "source": [
        "5. Terakhir, tampilkan hasil solusi SPL dengan mengetikkan kode berikut pada cell berikutnya:"
      ],
      "metadata": {
        "id": "6S-e9L4Ym-VM"
      }
    },
    {
      "cell_type": "code",
      "source": [
        "print(X)"
      ],
      "metadata": {
        "colab": {
          "base_uri": "https://localhost:8080/"
        },
        "id": "WfLBaxsxnBCt",
        "outputId": "d6fa8baa-78fa-4b8a-e541-30376d473d83"
      },
      "execution_count": 4,
      "outputs": [
        {
          "output_type": "stream",
          "name": "stdout",
          "text": [
            "[2. 1. 1.]\n"
          ]
        }
      ]
    },
    {
      "cell_type": "markdown",
      "source": [
        "Hasil solusi SPL akan ditampilkan pada output console."
      ],
      "metadata": {
        "id": "RoTT4g0wnLe5"
      }
    }
  ]
}