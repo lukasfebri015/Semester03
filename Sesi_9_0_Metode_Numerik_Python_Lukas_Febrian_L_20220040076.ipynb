{
  "nbformat": 4,
  "nbformat_minor": 0,
  "metadata": {
    "colab": {
      "provenance": [],
      "authorship_tag": "ABX9TyPJ66YCswjY99JqgALE6n1c",
      "include_colab_link": true
    },
    "kernelspec": {
      "name": "python3",
      "display_name": "Python 3"
    },
    "language_info": {
      "name": "python"
    }
  },
  "cells": [
    {
      "cell_type": "markdown",
      "metadata": {
        "id": "view-in-github",
        "colab_type": "text"
      },
      "source": [
        "<a href=\"https://colab.research.google.com/github/lukasfebri015/Semester03/blob/main/Sesi_9_0_Metode_Numerik_Python_Lukas_Febrian_L_20220040076.ipynb\" target=\"_parent\"><img src=\"https://colab.research.google.com/assets/colab-badge.svg\" alt=\"Open In Colab\"/></a>"
      ]
    },
    {
      "cell_type": "markdown",
      "source": [
        "Nama: Lukas Febrian Laufra\n",
        "\n",
        "Nim: 20220040076\n",
        "\n",
        "Sesi: 10\n",
        "\n",
        "Mata Kuliah: Metode Numerik\n",
        "\n",
        "Hari/Tanggal: 03/01/2023\n",
        "\n",
        "Dosen: Bapak Syahid Abdullah, S.Si., M.Kom"
      ],
      "metadata": {
        "id": "qK_ztdfHHTjz"
      }
    },
    {
      "cell_type": "markdown",
      "source": [
        "----------------------------------------------"
      ],
      "metadata": {
        "id": "SHl4eEd2ILo5"
      }
    },
    {
      "cell_type": "markdown",
      "source": [
        "Tentukan spline linear yang menginterpolasikan data:\n",
        "\n",
        "(-2,16), (-1,5), (0,-3), (1,-2), (2,10), (3,-10)\n",
        "\n",
        "Dan hitung nilai-nilai S(z) untuk z=-1.5, 0.5, 0.5, 1.5, 2.5"
      ],
      "metadata": {
        "id": "YFsQaQsUGlus"
      }
    },
    {
      "cell_type": "markdown",
      "source": [
        "Untuk menentukan spline linear yang menginterpolasi data (-2,16), (-1,5), (0,-3), (1,-2), (2,10), (3,-10)) dan hitung nilai-nilai S(z) untuk z=-1.5, 0.5, 0.5, 1.5, 2.5, Anda dapat menggunakan pustaka scipy pada Python. Berikut adalah implementasinya:"
      ],
      "metadata": {
        "id": "vYO-TX-OGtEu"
      }
    },
    {
      "cell_type": "markdown",
      "source": [
        "-----------------------------------------------------"
      ],
      "metadata": {
        "id": "AnZqskPtPBNU"
      }
    },
    {
      "cell_type": "code",
      "execution_count": 5,
      "metadata": {
        "colab": {
          "base_uri": "https://localhost:8080/"
        },
        "id": "o4A4W98tGjga",
        "outputId": "de6b8bfc-effa-4ec6-a4d5-3389a25ef6b1"
      },
      "outputs": [
        {
          "output_type": "stream",
          "name": "stdout",
          "text": [
            "[10.5 -2.5 -2.5  4.   0. ]\n"
          ]
        }
      ],
      "source": [
        "from scipy.interpolate import interp1d\n",
        "import numpy as np\n",
        "\n",
        "# Data yang diberikan\n",
        "x = np.array([-2, -1, 0, 1, 2, 3])\n",
        "y = np.array([16, 5, -3, -2, 10, -10])\n",
        "\n",
        "# Melakukan interpolasi spline linear\n",
        "spline = interp1d(x, y, kind='linear')\n",
        "\n",
        "# Menghitung nilai-nilai S(z)\n",
        "z_values = np.array([-1.5, 0.5, 0.5, 1.5, 2.5])\n",
        "S_z_values = spline(z_values)\n",
        "\n",
        "# Output nilai-nilai S(z)\n",
        "print(S_z_values)"
      ]
    },
    {
      "cell_type": "markdown",
      "source": [
        "-----------------------------------------------------"
      ],
      "metadata": {
        "id": "kSt_d2JoPHlP"
      }
    },
    {
      "cell_type": "markdown",
      "source": [
        "Dengan menjalankan kode di atas, Anda akan mendapatkan hasil interpolasi spline linear dan nilai-nilai S(z) untuk z yang diberikan."
      ],
      "metadata": {
        "id": "vTAWyOnhG6RJ"
      }
    }
  ]
}