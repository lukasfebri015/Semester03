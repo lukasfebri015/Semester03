{
  "nbformat": 4,
  "nbformat_minor": 0,
  "metadata": {
    "colab": {
      "provenance": [],
      "authorship_tag": "ABX9TyMC0bGDoaUgX+XIZcVm8mn5",
      "include_colab_link": true
    },
    "kernelspec": {
      "name": "python3",
      "display_name": "Python 3"
    },
    "language_info": {
      "name": "python"
    }
  },
  "cells": [
    {
      "cell_type": "markdown",
      "metadata": {
        "id": "view-in-github",
        "colab_type": "text"
      },
      "source": [
        "<a href=\"https://colab.research.google.com/github/lukasfebri015/Semester03/blob/main/Sesi_3_Metode_Numerik_Lukas_Febrian_Laufra.ipynb\" target=\"_parent\"><img src=\"https://colab.research.google.com/assets/colab-badge.svg\" alt=\"Open In Colab\"/></a>"
      ]
    },
    {
      "cell_type": "markdown",
      "source": [
        "\n",
        "\n",
        "\n",
        "> - Nama: Lukas Febrian Laufra - Nim: 20220040076\n",
        "> - Jurusan: Teknik Informatika - Kelas: TI22F\n",
        "> - Sekolah: Universitas Nusa Putra - Hari: Minggu, 8 Oktober 2023\n",
        "> - Mata Kuliah: Metode Numerik - Sesi: 3\n",
        "> - Dosen: SYAHID ABDULLAH, S.Si., M.Kom\n",
        "\n",
        "\n",
        "\n",
        "\n"
      ],
      "metadata": {
        "id": "l63BpThKWD0K"
      }
    },
    {
      "cell_type": "markdown",
      "source": [
        "Fungsi Pertama:\n",
        "\n",
        "+ Fungsi yang diberikan adalah\n",
        "F(x)=e^\n",
        "5\n",
        "x\n",
        "F(x)=e\n",
        "5x\n",
        "  dan titik\n",
        "x\n",
        "=\n",
        "2\n",
        "x=2.\n",
        "\n",
        "Langkah-langkah:\n",
        "\n",
        "- Import pustaka NumPy.\n",
        "\n",
        "- Tentukan fungsi\n",
        "F(x)\n",
        "F(x).\n",
        "\n",
        "- Hitung nilai derivatif\n",
        "F′(x)F ′(x).\n",
        "- Buat hampiran deret Taylor/Maclaurin hingga orde 5 menggunakan formula deret Taylor.\n",
        "- Hitung nilai hampiran tersebut pada selang [0, 4]."
      ],
      "metadata": {
        "id": "Y2nP7_4STQZ3"
      }
    },
    {
      "cell_type": "code",
      "execution_count": 1,
      "metadata": {
        "colab": {
          "base_uri": "https://localhost:8080/"
        },
        "id": "b6x9ySy8S67I",
        "outputId": "a468dd4d-9bee-4e25-dbd5-bf55fabba73a"
      },
      "outputs": [
        {
          "output_type": "stream",
          "name": "stdout",
          "text": [
            "Hampiran deret Taylor pada x=2: 160058.98477559548\n"
          ]
        }
      ],
      "source": [
        "import numpy as np\n",
        "\n",
        "# Definisikan fungsi\n",
        "def F(x):\n",
        "    return np.exp(5 * x)\n",
        "\n",
        "# Titik tengah selang\n",
        "a = 0\n",
        "b = 4\n",
        "x = 2  # Titik x=2\n",
        "\n",
        "# Hitung nilai hampiran deret Taylor\n",
        "hampiran = F(x) + (x - a) * F(x) + ((x - a) ** 2 / 2) * F(x) + ((x - a) ** 3 / 6) * F(x) + ((x - a) ** 4 / 24) * F(x) + ((x - a) ** 5 / 120) * F(x)\n",
        "\n",
        "print(\"Hampiran deret Taylor pada x=2:\", hampiran)"
      ]
    },
    {
      "cell_type": "markdown",
      "source": [
        "Fungsi Kedua:\n",
        "+ Fungsi yang diberikan adalah\n",
        "F(x)=2 cos(x)+sin⁡(2x)\n",
        "F(x)=2cos(x)+sin(2x) dan titik\n",
        "x = 0 x=0.\n",
        "\n",
        "Langkah-langkah\n",
        "- serupa dengan yang pertama, tetapi kali ini kita menggunakan deret Taylor untuk fungsi trigonometri."
      ],
      "metadata": {
        "id": "8fJv6NHQU5ZS"
      }
    },
    {
      "cell_type": "code",
      "source": [
        "import numpy as np\n",
        "\n",
        "# Definisikan fungsi\n",
        "def F(x):\n",
        "    return 2 * np.cos(x) + np.sin(2 * x)\n",
        "\n",
        "# Titik tengah selang\n",
        "a = -6\n",
        "b = 6\n",
        "x = 0  # Titik x=0\n",
        "\n",
        "# Hitung nilai hampiran deret Taylor\n",
        "hampiran = F(x) + (x - a) * F(x) - ((x - a) ** 3 / 6) * F(x) + ((x - a) ** 5 / 120) * F(x)\n",
        "\n",
        "print(\"Hampiran deret Taylor pada x=0:\", hampiran)"
      ],
      "metadata": {
        "colab": {
          "base_uri": "https://localhost:8080/"
        },
        "id": "Jo1Hh-MzVdEB",
        "outputId": "1adc8e3f-6070-4428-d4df-5e99d86bd43e"
      },
      "execution_count": 2,
      "outputs": [
        {
          "output_type": "stream",
          "name": "stdout",
          "text": [
            "Hampiran deret Taylor pada x=0: 71.6\n"
          ]
        }
      ]
    },
    {
      "cell_type": "markdown",
      "source": [
        "- Deskripsi di atas adalah panduan atau instruksi tentang bagaimana cara melakukan perhitungan hampiran deret Taylor/Maclaurin untuk dua fungsi matematika yang berbeda. Deskripsi tersebut memberikan langkah-langkah umum tentang apa yang perlu dilakukan untuk menemukan hampiran deret Taylor/Maclaurin untuk fungsi-fungsi tersebut menggunakan bahasa pemrograman Python. Tujuan dari deskripsi tersebut adalah membantu Anda atau orang lain yang mengerjakan tugas tersebut untuk memahami bagaimana proses perhitungan dilakukan dan bagaimana mengimplementasikannya dalam kode Python.\n",
        "\n",
        "- Deskripsi tersebut mencakup dua fungsi matematika yang berbeda, yaitu \\(F(x) = e^{5x}\\) dan \\(F(x) = 2\\cos(x) + \\sin(2x)\\), beserta langkah-langkah yang perlu diikuti, seperti mengimpor pustaka NumPy, mendefinisikan fungsi, menghitung derivatif, dan menghitung hampiran deret Taylor/Maclaurin pada titik-titik yang ditentukan. Pada akhirnya, Anda diminta untuk menggabungkan implementasi ini ke dalam lembar Google Colab dan membagikan linknya kepada yang meminta tugas ini, serta mencantumkan identitas Anda pada lembar tersebut."
      ],
      "metadata": {
        "id": "Su9BqA9vVjV3"
      }
    }
  ]
}