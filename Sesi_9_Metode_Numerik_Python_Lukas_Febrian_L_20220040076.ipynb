{
  "nbformat": 4,
  "nbformat_minor": 0,
  "metadata": {
    "colab": {
      "provenance": [],
      "authorship_tag": "ABX9TyOGHHSy/SeRfpoc0ypt9R4k",
      "include_colab_link": true
    },
    "kernelspec": {
      "name": "python3",
      "display_name": "Python 3"
    },
    "language_info": {
      "name": "python"
    }
  },
  "cells": [
    {
      "cell_type": "markdown",
      "metadata": {
        "id": "view-in-github",
        "colab_type": "text"
      },
      "source": [
        "<a href=\"https://colab.research.google.com/github/lukasfebri015/Semester03/blob/main/Sesi_9_Metode_Numerik_Python_Lukas_Febrian_L_20220040076.ipynb\" target=\"_parent\"><img src=\"https://colab.research.google.com/assets/colab-badge.svg\" alt=\"Open In Colab\"/></a>"
      ]
    },
    {
      "cell_type": "markdown",
      "source": [
        "Nama: Lukas Febrian Laufra\n",
        "\n",
        "Nim: 20220040076\n",
        "\n",
        "Sesi: 9\n",
        "\n",
        "Mata Kuliah: Metode Numerik\n",
        "\n",
        "Hari/Tanggal: 03/01/2023\n",
        "\n",
        "Dosen: Bapak Syahid Abdullah, S.Si., M.Kom"
      ],
      "metadata": {
        "id": "qK_ztdfHHTjz"
      }
    },
    {
      "cell_type": "markdown",
      "source": [
        "----------------------------------------------"
      ],
      "metadata": {
        "id": "SHl4eEd2ILo5"
      }
    },
    {
      "cell_type": "markdown",
      "source": [
        "Tentukan polinomial Lagrange yang menginterpolasikan titik-titik (0,-3), (1,-2), (-1,5). Kemudian tentukan f(1)."
      ],
      "metadata": {
        "id": "YFsQaQsUGlus"
      }
    },
    {
      "cell_type": "markdown",
      "source": [
        "Untuk menentukan polinomial Lagrange yang menginterpolasi titik-titik (0,-3), (1,-2), (-1,5) dan nilai f(1), Anda dapat menggunakan pustaka `scipy`. Berikut adalah implementasinya dalam Python:"
      ],
      "metadata": {
        "id": "vYO-TX-OGtEu"
      }
    },
    {
      "cell_type": "code",
      "execution_count": 1,
      "metadata": {
        "colab": {
          "base_uri": "https://localhost:8080/"
        },
        "id": "o4A4W98tGjga",
        "outputId": "6d2835d4-79fb-4b30-e27f-c4a2c2e45b8a"
      },
      "outputs": [
        {
          "output_type": "stream",
          "name": "stdout",
          "text": [
            "     2\n",
            "4.5 x - 3.5 x - 3\n",
            "-2.0\n"
          ]
        }
      ],
      "source": [
        "from scipy.interpolate import lagrange\n",
        "import numpy as np\n",
        "\n",
        "# Titik-titik yang diberikan\n",
        "x = np.array([0, 1, -1])\n",
        "y = np.array([-3, -2, 5])\n",
        "\n",
        "# Membuat polinomial Lagrange\n",
        "poly = lagrange(x, y)\n",
        "\n",
        "# Menentukan f(1)\n",
        "f_1 = poly(1)\n",
        "\n",
        "# Output polinomial Lagrange\n",
        "print(poly)\n",
        "# Output f(1)\n",
        "print(f_1)"
      ]
    },
    {
      "cell_type": "markdown",
      "source": [
        "Dengan menjalankan kode di atas, Anda akan mendapatkan polinomial Lagrange dan nilai f(1). Hasilnya akan menunjukkan polinomial Lagrange dan nilai f(1) yang sesuai dengan titik-titik yang diberikan.\n",
        "\n",
        "- Sumber:\n",
        "https://docs.scipy.org/doc/scipy/reference/generated/scipy.interpolate.lagrange.html"
      ],
      "metadata": {
        "id": "vTAWyOnhG6RJ"
      }
    }
  ]
}